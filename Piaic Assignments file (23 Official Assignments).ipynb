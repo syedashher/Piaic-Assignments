{
 "cells": [
  {
   "cell_type": "code",
   "execution_count": 1,
   "metadata": {},
   "outputs": [
    {
     "name": "stdout",
     "output_type": "stream",
     "text": [
      "Enter the value of Radius of a Circle in cm : 0.5\n",
      "Area of a Cirle =  0.7855  cm\n"
     ]
    }
   ],
   "source": [
    "#1. Calculate the Area of a Circle.\n",
    "\n",
    "Value_of_Pi = 3.142\n",
    "\n",
    "Radius = float(input(\"Enter the value of Radius of a Circle in cm : \"))\n",
    "\n",
    "Area = Value_of_Pi * (Radius*Radius)\n",
    "\n",
    "print(\"Area of a Cirle = \", Area, \" cm\")"
   ]
  },
  {
   "cell_type": "code",
   "execution_count": 2,
   "metadata": {},
   "outputs": [
    {
     "name": "stdout",
     "output_type": "stream",
     "text": [
      "Enter any Number : -1\n",
      "Negative Number Entered\n"
     ]
    }
   ],
   "source": [
    "#2. Check the Number either it is Positive, Negative or Zero\n",
    "\n",
    "Number = float(input(\"Enter any Number : \"))\n",
    "\n",
    "if Number > 0:\n",
    "    print(\"Positive Number Entered\")\n",
    "\n",
    "elif Number == 0:\n",
    "    print(\"Zero Entered\")\n",
    "\n",
    "else:\n",
    "    print(\"Negative Number Entered\")"
   ]
  },
  {
   "cell_type": "code",
   "execution_count": 3,
   "metadata": {},
   "outputs": [
    {
     "name": "stdout",
     "output_type": "stream",
     "text": [
      "Enter Numerator : 4\n",
      "Enter Denomenator : 2\n",
      "The Entered Number 4 is completely divisible by the Entered Number 2\n"
     ]
    }
   ],
   "source": [
    "#3. Divisibility Check of two numbers.\n",
    "\n",
    "Numerator = int(input(\"Enter Numerator : \"))\n",
    "Denominator = int(input(\"Enter Denomenator : \"))\n",
    "\n",
    "if Numerator % Denominator == 0:\n",
    "    print(\"The Entered Number\", Numerator, \"is completely divisible by the Entered Number\", Denominator)\n",
    "\n",
    "else:\n",
    "    print(\"The Entered Number\", Numerator, \"is not completely divisible by the Entered Number\", Denominator)"
   ]
  },
  {
   "cell_type": "code",
   "execution_count": 4,
   "metadata": {},
   "outputs": [
    {
     "name": "stdout",
     "output_type": "stream",
     "text": [
      "Enter a date in (dd/mm/yyyy) format: 02/11/1999\n",
      "Enter a date in (dd/mm/yyyy) format: 28/06/2019\n",
      "There are  7178 days between  1999-11-02  and  2019-06-28\n"
     ]
    }
   ],
   "source": [
    "#4. Days Calculator.\n",
    "\n",
    "from datetime import datetime\n",
    "\n",
    "Date_1 = input(\"Enter a date in (dd/mm/yyyy) format: \")\n",
    "Date_2 = input(\"Enter a date in (dd/mm/yyyy) format: \")\n",
    "\n",
    "finalstartDate = datetime.strptime(Date_1,\"%d/%m/%Y\").date()\n",
    "finalendDate = datetime.strptime(Date_2,\"%d/%m/%Y\").date()\n",
    "\n",
    "remainingDays = finalendDate - finalstartDate\n",
    "\n",
    "print (\"There are \", remainingDays.days, \"days between \", finalstartDate,\" and \",finalendDate)"
   ]
  },
  {
   "cell_type": "code",
   "execution_count": 5,
   "metadata": {},
   "outputs": [
    {
     "name": "stdout",
     "output_type": "stream",
     "text": [
      "Enter the Value of Radius in cm : 1\n",
      "The Volume of Radius with 1.0 is 4.189333333333333 cm\n"
     ]
    }
   ],
   "source": [
    "#5. Calculate the Volume of Sphere.\n",
    "\n",
    "Pi = 3.142\n",
    "\n",
    "Radius = float(input(\"Enter the Value of Radius in cm : \"))\n",
    "\n",
    "Volume = 4/3 * Pi * (Radius * Radius *Radius)\n",
    "\n",
    "print(\"The Volume of Radius with\", Radius, \"is\", Volume, \"cm\")"
   ]
  },
  {
   "cell_type": "code",
   "execution_count": 6,
   "metadata": {},
   "outputs": [
    {
     "name": "stdout",
     "output_type": "stream",
     "text": [
      "Enter String : Hi\n",
      "How many copies of string you need : 4\n",
      "4 copies of Hi are HiHiHiHi\n"
     ]
    }
   ],
   "source": [
    "#6. Copy String \"n\" Times\n",
    "\n",
    "String = str(input(\"Enter String : \"))\n",
    "\n",
    "Copies = int(input(\"How many copies of string you need : \"))\n",
    "\n",
    "print(Copies, \"copies of\", String, \"are\", String * Copies )"
   ]
  },
  {
   "cell_type": "code",
   "execution_count": 7,
   "metadata": {},
   "outputs": [
    {
     "name": "stdout",
     "output_type": "stream",
     "text": [
      "Enter any Number : 4\n",
      "The Number is Even\n"
     ]
    }
   ],
   "source": [
    "#7. Check if number is Even or Odd.\n",
    "\n",
    "Number = int(input(\"Enter any Number : \"))\n",
    "\n",
    "if Number % 2 == 0:\n",
    "    print(\"The Number is Even\")\n",
    "    \n",
    "else:\n",
    "    print(\"The Number is Odd\")"
   ]
  },
  {
   "cell_type": "code",
   "execution_count": 8,
   "metadata": {},
   "outputs": [
    {
     "name": "stdout",
     "output_type": "stream",
     "text": [
      "Enter A Character : A\n",
      "A is a Vowel\n"
     ]
    }
   ],
   "source": [
    "#8. Vowel Tester.\n",
    "\n",
    "Vowels = ['A','E','I','O','U','a','e','i','o','u']\n",
    "\n",
    "Character = input(\"Enter A Character : \")\n",
    "\n",
    "if Character in Vowels:\n",
    "    print(Character, \"is a Vowel\")\n",
    "\n",
    "else:\n",
    "    print(Character,\" is not a Vowel\")"
   ]
  },
  {
   "cell_type": "code",
   "execution_count": 9,
   "metadata": {},
   "outputs": [
    {
     "name": "stdout",
     "output_type": "stream",
     "text": [
      "Enter Magnitude of Triangle Base : 4\n",
      "Enter Magnitude of Triangle Height : 4\n",
      "Are of a Trianlge with Base 4.0 and Height 4.0 is 8.0\n"
     ]
    }
   ],
   "source": [
    "#9. Area of Triangle.\n",
    "\n",
    "Base = float(input(\"Enter Magnitude of Triangle Base : \"))\n",
    "\n",
    "Height = float(input(\"Enter Magnitude of Triangle Height : \"))\n",
    "\n",
    "Area = (1/2) * Base * Height\n",
    "\n",
    "print(\"Are of a Trianlge with Base\", Base, \"and Height\", Height, \"is\", Area)"
   ]
  },
  {
   "cell_type": "code",
   "execution_count": 10,
   "metadata": {},
   "outputs": [
    {
     "name": "stdout",
     "output_type": "stream",
     "text": [
      "Please Enter the Principal Amount : 10000\n",
      "Please Enter the Interest Rate in % : 0.1\n",
      "Please Enter the Number of Years : 5\n",
      "After 5.0 Years your Principal Amount 10000.0 over Interest Rate of 0.1 % will be :  15000.0\n"
     ]
    }
   ],
   "source": [
    "#10. Calculate the Rate of Interest\n",
    "\n",
    "Principal_Amount = float(input(\"Please Enter the Principal Amount : \"))\n",
    "\n",
    "Interest_Rate = float(input(\"Please Enter the Interest Rate in % : \"))\n",
    "\n",
    "Number_of_Years = float(input(\"Please Enter the Number of Years : \"))\n",
    "\n",
    "After_unknown_Years = (Principal_Amount + (Principal_Amount * Interest_Rate * Number_of_Years))\n",
    "\n",
    "print(\"After\", Number_of_Years, \"Years your Principal Amount\", Principal_Amount, \"over Interest Rate of\", Interest_Rate, \"% will be : \", After_unknown_Years)"
   ]
  },
  {
   "cell_type": "code",
   "execution_count": 11,
   "metadata": {},
   "outputs": [
    {
     "name": "stdout",
     "output_type": "stream",
     "text": [
      "Enter Co-Ordinate For x1 : 2\n",
      "Enter Co-Ordinate For x2 : 4\n",
      "Enter Co-Ordinate For y1 : 4\n",
      "Enter Co-Ordinate For y2 : 4\n",
      "2.0\n"
     ]
    }
   ],
   "source": [
    "#11. Euclidean distcance.\n",
    "\n",
    "import math\n",
    "\n",
    "x1 = int(input(\"Enter Co-Ordinate For x1 : \"))\n",
    "x2 = int(input(\"Enter Co-Ordinate For x2 : \"))\n",
    "y1 = int(input(\"Enter Co-Ordinate For y1 : \"))\n",
    "y2 = int(input(\"Enter Co-Ordinate For y2 : \"))\n",
    "\n",
    "Distance = math.sqrt( ((x1-y1)**2)+((x2-y2)**2) )\n",
    "\n",
    "print(Distance)"
   ]
  },
  {
   "cell_type": "code",
   "execution_count": 12,
   "metadata": {},
   "outputs": [
    {
     "name": "stdout",
     "output_type": "stream",
     "text": [
      "Enter Height in feet : 5\n",
      "There are 152.4 cm in 5.0 Feet\n"
     ]
    }
   ],
   "source": [
    "#12 Feet to Centimeter Converter\n",
    "\n",
    "User_Height_in_Feet = float(input(\"Enter Height in feet : \"))\n",
    "\n",
    "In_cm = User_Height_in_Feet * 30.48\n",
    "\n",
    "print(\"There are\", In_cm, \"cm in\", User_Height_in_Feet, \"Feet\")"
   ]
  },
  {
   "cell_type": "code",
   "execution_count": 13,
   "metadata": {},
   "outputs": [
    {
     "name": "stdout",
     "output_type": "stream",
     "text": [
      "Enter Your Height in Cm : 180\n",
      "Enter Your Weight in kg : 75\n",
      "23.148148148148145\n"
     ]
    }
   ],
   "source": [
    "#13. BMI Calculator.\n",
    "\n",
    "User_Height = float(input(\"Enter Your Height in Cm : \"))\n",
    "\n",
    "User_Weight = float(input(\"Enter Your Weight in kg : \"))\n",
    "\n",
    "Height_In_Meters = User_Height * 0.01\n",
    "\n",
    "Total_BMI = User_Weight / (Height_In_Meters * Height_In_Meters)\n",
    "\n",
    "print(Total_BMI)"
   ]
  },
  {
   "cell_type": "code",
   "execution_count": 14,
   "metadata": {},
   "outputs": [
    {
     "name": "stdout",
     "output_type": "stream",
     "text": [
      "Enter value of n : 5\n",
      "15\n"
     ]
    }
   ],
   "source": [
    "#14. Sum of \"n\" Positive Integers.\n",
    "\n",
    "n = int(input(\"Enter value of n : \"))\n",
    "\n",
    "sum = 0\n",
    "\n",
    "for i in range(1,n+1):\n",
    "    sum +=i\n",
    "    \n",
    "print(sum)"
   ]
  },
  {
   "cell_type": "code",
   "execution_count": 15,
   "metadata": {},
   "outputs": [
    {
     "name": "stdout",
     "output_type": "stream",
     "text": [
      "Enter a Number : 1234\n",
      "1 + 2 + 3 + 4\n",
      "Sum Of  1 + 2 + 3 + 4  is  10\n"
     ]
    }
   ],
   "source": [
    "#15. Digits Sum of a Number.\n",
    "\n",
    "Number = int(input(\"Enter a Number : \"))\n",
    "\n",
    "Sum_Number = str(Number)\n",
    "\n",
    "lst = list(Sum_Number)\n",
    "\n",
    "Total_Digits = ' + '.join(Sum_Number)\n",
    "\n",
    "print(Total_Digits)\n",
    "\n",
    "Total = 0\n",
    "\n",
    "while Number > 0:\n",
    "    Digit = Number%10\n",
    "    Total = Total+Digit\n",
    "    Number = Number//10\n",
    "\n",
    "print(\"Sum Of \", Total_Digits, \" is \", Total)"
   ]
  },
  {
   "cell_type": "code",
   "execution_count": 16,
   "metadata": {},
   "outputs": [
    {
     "name": "stdout",
     "output_type": "stream",
     "text": [
      "Enter a decimal number 5\n",
      "Binary Representation of  5  is  101 "
     ]
    }
   ],
   "source": [
    "#16 Decimal To Binary Converter.\n",
    "\n",
    "decimalNumber = int(input(\"Enter a decimal number \"))\n",
    "finalDecimalNumber = decimalNumber\n",
    "\n",
    "# to store binary numbers in list\n",
    "array=[]\n",
    "\n",
    "while(decimalNumber>0):\n",
    "    digit=decimalNumber%2\n",
    "    array.append(digit)\n",
    "    decimalNumber=decimalNumber//2\n",
    "    \n",
    "    # Converting integer list to string list\n",
    "    s = [str(i) for i in array] \n",
    "      \n",
    "    # Join list items using join() \n",
    "    res = int(\"\".join(s))     \n",
    "array.reverse()\n",
    "\n",
    "print(\"Binary Representation of \", finalDecimalNumber,\" is \",res,end=\" \")\n"
   ]
  },
  {
   "cell_type": "code",
   "execution_count": 18,
   "metadata": {},
   "outputs": [
    {
     "name": "stdout",
     "output_type": "stream",
     "text": [
      "Enter a Binary number 1101\n",
      "Decimal Representation of  1101  is  13\n"
     ]
    }
   ],
   "source": [
    "#17. Binary to Decimal Converter.\n",
    "\n",
    "binaryNumber = input(\"Enter a Binary number \")\n",
    "\n",
    "binaryNumberList = list(binaryNumber)\n",
    "\n",
    "defaultValue = 0\n",
    "\n",
    "actualNumber = str(binaryNumber)\n",
    "\n",
    "\n",
    "for d in range(len(binaryNumberList)):\n",
    "    numbers = binaryNumberList.pop()\n",
    "    if numbers == '1':\n",
    "        defaultValue = defaultValue + pow(2, d)\n",
    "        \n",
    "print(\"Decimal Representation of \", actualNumber,\" is \" ,defaultValue)\n"
   ]
  },
  {
   "cell_type": "code",
   "execution_count": 19,
   "metadata": {},
   "outputs": [
    {
     "name": "stdout",
     "output_type": "stream",
     "text": [
      "Enter Text QuickBrownFoxJumpsovertheDog \n",
      "Vowels :  9\n",
      "Consonants :  20\n"
     ]
    }
   ],
   "source": [
    "#18 Vowel and Consonants Counter. \n",
    "\n",
    "userInput = input(\"Enter Text \")\n",
    "\n",
    "vowels = 0\n",
    "\n",
    "consonants = 0\n",
    "\n",
    "for i in userInput:\n",
    "    if(i == 'a' or i == 'e' or i == 'i' or i == 'o' or i == 'u'\n",
    "       or i == 'A' or i == 'E' or i == 'I' or i == 'O' or i == 'U'):\n",
    "        vowels = vowels + 1\n",
    "    else:\n",
    "        consonants = consonants + 1\n",
    "\n",
    "print(\"Vowels : \",vowels)\n",
    "\n",
    "print(\"Consonants : \",consonants)"
   ]
  },
  {
   "cell_type": "code",
   "execution_count": 20,
   "metadata": {},
   "outputs": [
    {
     "name": "stdout",
     "output_type": "stream",
     "text": [
      "Enter Text :AHA\n",
      "Text  AHA  is Palindrome\n"
     ]
    }
   ],
   "source": [
    "#19. Palindrome tester. \n",
    "\n",
    "userInput = input(\"Enter Text :\")\n",
    "\n",
    "palindrome = userInput[::-1]\n",
    "\n",
    "if userInput == palindrome:\n",
    "    print(\"Text \" , userInput,\" is Palindrome\")\n",
    "    \n",
    "else:\n",
    "    print(\"Text \" , userInput,\" is not Palindrome\")"
   ]
  },
  {
   "cell_type": "code",
   "execution_count": 21,
   "metadata": {},
   "outputs": [
    {
     "name": "stdout",
     "output_type": "stream",
     "text": [
      "Please Enter your own String : Anas\n",
      "\n",
      "Total Number of Alphabets in this String :   4\n",
      "Total Number of Digits in this String :   0\n",
      "Total Number of Special Characters in this String :   0\n",
      "Total Number of Spaces in this String :   0\n"
     ]
    }
   ],
   "source": [
    "#20. Count Alphabets, Numbers and Special Characters.  \n",
    "\n",
    "userInput = input(\"Please Enter your own String : \")\n",
    "alphabets = digits = special = 0\n",
    "spaces = userInput.count(' ')\n",
    "for i in range(len(userInput)):\n",
    "    if(userInput[i].isalpha()):\n",
    "        alphabets = alphabets + 1\n",
    "    elif(userInput[i].isdigit()):\n",
    "        digits = digits + 1\n",
    "    else:\n",
    "        special = special + 1\n",
    "\n",
    "specialCharacter = special - spaces\n",
    "print(\"\\nTotal Number of Alphabets in this String :  \", alphabets)\n",
    "print(\"Total Number of Digits in this String :  \", digits)\n",
    "print(\"Total Number of Special Characters in this String :  \", specialCharacter) \n",
    "print(\"Total Number of Spaces in this String :  \", spaces)"
   ]
  },
  {
   "cell_type": "code",
   "execution_count": 22,
   "metadata": {},
   "outputs": [
    {
     "name": "stdout",
     "output_type": "stream",
     "text": [
      "\n",
      "* \n",
      "* * \n",
      "* * * \n",
      "* * * * \n",
      "* * * * * \n",
      "* * * * \n",
      "* * * \n",
      "* * \n",
      "* \n"
     ]
    }
   ],
   "source": [
    "#21. Pattern 1.\n",
    "\n",
    "number=5;\n",
    "for i in range(number):\n",
    "    for j in range(i):\n",
    "        print ('* ', end=\"\")\n",
    "        \n",
    "    print('')\n",
    "\n",
    "for i in range(number,0,-1):\n",
    "    for j in range(i):\n",
    "        print('* ', end=\"\")\n",
    "    print('') "
   ]
  },
  {
   "cell_type": "code",
   "execution_count": 23,
   "metadata": {},
   "outputs": [
    {
     "name": "stdout",
     "output_type": "stream",
     "text": [
      "\n",
      "1\n",
      "12\n",
      "123\n",
      "1234\n",
      "12345\n",
      "1234\n",
      "123\n",
      "12\n",
      "1\n"
     ]
    }
   ],
   "source": [
    "#22. Pattern 2. \n",
    "\n",
    "number=5\n",
    "random = 1\n",
    "for i in range(number):\n",
    "    for j in range(i):\n",
    "        print (j+1, end=\"\")\n",
    "    \n",
    "    print('')\n",
    "\n",
    "for i in range(5,0,-1):\n",
    "    for j in range(i):\n",
    "        print(j+1, end=\"\")\n",
    "    print('')"
   ]
  },
  {
   "cell_type": "code",
   "execution_count": 24,
   "metadata": {},
   "outputs": [
    {
     "name": "stdout",
     "output_type": "stream",
     "text": [
      "\n",
      "1\n",
      "22\n",
      "333\n",
      "4444\n",
      "55555\n",
      "666666\n",
      "7777777\n",
      "88888888\n",
      "999999999\n"
     ]
    }
   ],
   "source": [
    "#23. Pattern 3.\n",
    "\n",
    "for i in range(10):\n",
    "    print(str(i) * i)"
   ]
  }
 ],
 "metadata": {
  "kernelspec": {
   "display_name": "Python 3",
   "language": "python",
   "name": "python3"
  },
  "language_info": {
   "codemirror_mode": {
    "name": "ipython",
    "version": 3
   },
   "file_extension": ".py",
   "mimetype": "text/x-python",
   "name": "python",
   "nbconvert_exporter": "python",
   "pygments_lexer": "ipython3",
   "version": "3.7.3"
  }
 },
 "nbformat": 4,
 "nbformat_minor": 2
}
